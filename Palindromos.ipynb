{
  "nbformat": 4,
  "nbformat_minor": 0,
  "metadata": {
    "colab": {
      "name": "Untitled9.ipynb",
      "provenance": [],
      "authorship_tag": "ABX9TyOk8U4onjWR681F4GQ5yFTM",
      "include_colab_link": true
    },
    "kernelspec": {
      "name": "python3",
      "display_name": "Python 3"
    }
  },
  "cells": [
    {
      "cell_type": "markdown",
      "metadata": {
        "id": "view-in-github",
        "colab_type": "text"
      },
      "source": [
        "<a href=\"https://colab.research.google.com/github/JocelynV00/daa_2021_1/blob/master/Palindromos.ipynb\" target=\"_parent\"><img src=\"https://colab.research.google.com/assets/colab-badge.svg\" alt=\"Open In Colab\"/></a>"
      ]
    },
    {
      "cell_type": "code",
      "metadata": {
        "colab": {
          "base_uri": "https://localhost:8080/"
        },
        "id": "NEsz-ruPWSLx",
        "outputId": "d4529c15-7e20-4d4c-9cd6-6f028f661f85"
      },
      "source": [
        "cont=0\r\n",
        "hora=[]\r\n",
        "for hor_izq in range (3):\r\n",
        "  for hor_der in range (10):\r\n",
        "    if hor_izq == 2 and hor_der >= 4:\r\n",
        "      continue\r\n",
        "    for min_izq in range(6):\r\n",
        "      for min_der in range(10):\r\n",
        "        if hor_izq == min_der and hor_der == min_izq:\r\n",
        "          print (f\" {hor_izq}{hor_der} : {min_izq}{min_der} \")\r\n",
        "          cont+=1\r\n",
        "\r\n",
        "\r\n",
        "print(f\"En total se encontraron {cont} palindromos\")\r\n",
        "#"
      ],
      "execution_count": 11,
      "outputs": [
        {
          "output_type": "stream",
          "text": [
            " 00 : 00 \n",
            " 01 : 10 \n",
            " 02 : 20 \n",
            " 03 : 30 \n",
            " 04 : 40 \n",
            " 05 : 50 \n",
            " 10 : 01 \n",
            " 11 : 11 \n",
            " 12 : 21 \n",
            " 13 : 31 \n",
            " 14 : 41 \n",
            " 15 : 51 \n",
            " 20 : 02 \n",
            " 21 : 12 \n",
            " 22 : 22 \n",
            " 23 : 32 \n",
            "En total se encontraron 16 palindromos\n"
          ],
          "name": "stdout"
        }
      ]
    }
  ]
}
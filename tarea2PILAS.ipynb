{
  "nbformat": 4,
  "nbformat_minor": 0,
  "metadata": {
    "colab": {
      "name": "Untitled15.ipynb",
      "provenance": [],
      "authorship_tag": "ABX9TyNlz18pNPaORMipv2Ia4CQV",
      "include_colab_link": true
    },
    "kernelspec": {
      "name": "python3",
      "display_name": "Python 3"
    }
  },
  "cells": [
    {
      "cell_type": "markdown",
      "metadata": {
        "id": "view-in-github",
        "colab_type": "text"
      },
      "source": [
        "<a href=\"https://colab.research.google.com/github/JocelynV00/daa_2021_1/blob/master/tarea2PILAS.ipynb\" target=\"_parent\"><img src=\"https://colab.research.google.com/assets/colab-badge.svg\" alt=\"Open In Colab\"/></a>"
      ]
    },
    {
      "cell_type": "code",
      "metadata": {
        "id": "IODkCrkTv2xi"
      },
      "source": [
        "class Base:\r\n",
        "    def __init__ (self):\r\n",
        "     self.dato= []\r\n",
        "\r\n",
        "    def get_top (self):\r\n",
        "        return self.dato[-1]\r\n",
        "        \r\n",
        "    def vacio (self):\r\n",
        "        return len(self.dato) == 0\r\n",
        "\r\n",
        "    def push (self, valor):\r\n",
        "        return self.dato.append(valor)\r\n",
        "\r\n",
        "    def pop (self):\r\n",
        "        return self.dato.pop()\r\n",
        "\r\n",
        "    def get_length (self):\r\n",
        "        return len(self.dato)\r\n",
        "\r\n",
        "    def imprime (self):\r\n",
        "        print (\"__________________\\n\")\r\n",
        "        for lista in self.dato[-1::-1]:\r\n",
        "            print (lista)\r\n",
        "        print (\"__________________\\n\")"
      ],
      "execution_count": null,
      "outputs": []
    },
    {
      "cell_type": "code",
      "metadata": {
        "colab": {
          "base_uri": "https://localhost:8080/"
        },
        "id": "PnIP-szwwDf6",
        "outputId": "df7cdcd2-5011-4269-c52e-8389adc6ad68"
      },
      "source": [
        "print (\"Inserta tu operación: \\n \")\r\n",
        "\r\n",
        "valor = input() \r\n",
        "print(\"\\n\")\r\n",
        "\r\n",
        "pila = Base()\r\n",
        "pila2 = Base()    \r\n",
        "\r\n",
        "for ele in range (0,len(valor)):\r\n",
        "    p = valor[ele]\r\n",
        "\r\n",
        "    if p ==  '(':\r\n",
        "        pila.push (p)\r\n",
        "    if p ==  '{':\r\n",
        "        pila.push (p)\r\n",
        "    if p ==  '[':\r\n",
        "        pila.push (p)\r\n",
        "\r\n",
        "    if p ==  ')':\r\n",
        "       pila.pop ()\r\n",
        "    if p ==  '}':\r\n",
        "       pila.pop ()\r\n",
        "    if p ==  ']':\r\n",
        "        pila.pop ()\r\n",
        "    \r\n",
        "    ele+=1\r\n",
        "\r\n",
        "\r\n",
        "if pila.vacio():\r\n",
        "    print(f\"No hay error en la validacion de parentesis\\n\")\r\n",
        "\r\n",
        "\r\n",
        "print(\"Pila\")\r\n",
        "pila.imprime()\r\n",
        "print(f\"{pila.get_length()}\\n\")\r\n",
        "\r\n",
        "if pila.get_length() > 0:\r\n",
        "    print(f\"Valide la operación hace falta que se cierre un parentesis\\n\")"
      ],
      "execution_count": null,
      "outputs": [
        {
          "output_type": "stream",
          "text": [
            "Inserta tu operación: \n",
            " \n",
            "(30*5)+(67-15\n",
            "\n",
            "\n",
            "Pila\n",
            "-------------\n",
            "\n",
            "(\n",
            "-------------\n",
            "\n",
            "1\n",
            "\n",
            "Valide la operación hace falta que se cierre un parentesis\n",
            "\n"
          ],
          "name": "stdout"
        }
      ]
    }
  ]
}
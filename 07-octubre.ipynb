{
  "nbformat": 4,
  "nbformat_minor": 0,
  "metadata": {
    "colab": {
      "name": "Untitled16.ipynb",
      "provenance": [],
      "collapsed_sections": [],
      "authorship_tag": "ABX9TyPqgt8Y08rZvloMBlyQ/JNj",
      "include_colab_link": true
    },
    "kernelspec": {
      "name": "python3",
      "display_name": "Python 3"
    }
  },
  "cells": [
    {
      "cell_type": "markdown",
      "metadata": {
        "id": "view-in-github",
        "colab_type": "text"
      },
      "source": [
        "<a href=\"https://colab.research.google.com/github/JocelynV00/daa_2021_1/blob/master/07-octubre.ipynb\" target=\"_parent\"><img src=\"https://colab.research.google.com/assets/colab-badge.svg\" alt=\"Open In Colab\"/></a>"
      ]
    },
    {
      "cell_type": "markdown",
      "metadata": {
        "id": "TvjQRx9r0ooy"
      },
      "source": [
        "# Búsqueda lineal\r\n",
        "dada un conjunto de datos ordenados, a busqueda lineal consiste e recorrer el conjnto de datos desde el inicio al final, moviendose uno en uno hasta el elemento o llegar al final del conjunto.\r\n",
        "\r\n",
        "datos = [ 4,18,47,2,34,14,78,12,48,21,31,19,1,3,5]\r\n",
        "\r\n",
        "# Búsqueda binaria\r\n",
        "funciona sobre un conjunto de datos linel od¿rdenado. Consiste en dividir el conjunto en mitades y buscar en esa mitad. si el elemento buscado no esta a la derecha o a la izq. Haces la lista igual a la mitad correspondiente y repites el proceso.\r\n",
        "\r\n",
        "L = [1, 2, 3, 4, 5, 12, 14, 18, 19, 21, 31, 34, 47, 48, 78]\r\n",
        "\r\n",
        "Der = longitud(L)-1\r\n",
        "\r\n",
        "Izq = 0\r\n",
        "\r\n",
        "Mid apunta a la mitad del segmento de busqueda\r\n",
        "\r\n",
        "buscado: es el valor a buscar\r\n",
        "\r\n",
        "1. Hacer DER = longitud( L ) -1\r\n",
        "2. Hacer IZQ = 0\r\n",
        "3. si IZQ > DER significa que hay un error en los datos\r\n",
        "4. calcular MID = int( (IZQ + DER) /2)\r\n",
        "5. mientras L[MID] != buscado hacer\r\n",
        "6. * preguntar L[MID] > buscado\r\n",
        "    * hacer DER = mid\r\n",
        "  * de lo contrario\r\n",
        "    * hacer IZQ = mid\r\n",
        "  * preguntar (DER - IZQ) %2\r\n",
        "    * MID = (IZQ +((DER - IZQ) /2))+1\r\n",
        "  * de lo contrario\r\n",
        "    * MID = (IZQ +(DER - IZQ) /2)\r\n",
        "7. return MID"
      ]
    },
    {
      "cell_type": "code",
      "metadata": {
        "colab": {
          "base_uri": "https://localhost:8080/",
          "height": 466
        },
        "id": "rlXCy0vn1hbh",
        "outputId": "b92807d8-a1dd-4926-ad9b-df5f33e99cff"
      },
      "source": [
        "\"\"\"\r\n",
        "Buzqueda lineal\r\n",
        "regresa la posicion del elemnto \"buscado\"si se encuentra dentro de la lista.\r\n",
        "regresa -1 si el elemento no existe dentro de la lista.\r\n",
        "\"\"\"\r\n",
        "def busq_lineal(L, buscado):\r\n",
        "  indice = -1\r\n",
        "  contador = 0\r\n",
        "  for idx in range(len(L)):\r\n",
        "    contador += 1\r\n",
        "    if L[idx] == buscado:\r\n",
        "      indice = idx\r\n",
        "      break\r\n",
        "  print(f\"numero de comparaciones realizadas ={contador}\")\r\n",
        "  return indice\r\n",
        "\r\n",
        "  \"\"\"\r\n",
        "  Busqueda binaria\r\n",
        "  \"\"\"\r\n",
        "\r\n",
        "def main():\r\n",
        "  datos = [ 4,18,47,2,34,14,78,12,48,21,31,19,1,3,5]\r\n",
        "  dato = int(input(\"¿que valor quieres buscar?: \"))\r\n",
        "  resultado = busq_lineal(datos, dato)\r\n",
        "  print(\"Resultado: \", resultado)\r\n",
        "\r\n",
        "  print(\"Busqueda lineal en una lista ordenada\")\r\n",
        "  datos.sort()\r\n",
        "  print(datos)\r\n",
        "  resultado = busq_lineal(datos, dato)\r\n",
        "  print(\"Resultado: \" ,resultado)\r\n",
        "\r\n",
        "  print(\"busqueda binaria\")\r\n",
        "  posicion = busqueda_binaria(datos , dato)\r\n",
        "  print(f\"el elemento{dato} esta en la lista {posicion} de la lista\")\r\n",
        "\r\n",
        "main()"
      ],
      "execution_count": null,
      "outputs": [
        {
          "output_type": "stream",
          "text": [
            "¿que valor quieres buscar?: 78\n",
            "numero de comparaciones realizadas =7\n",
            "Resultado:  6\n",
            "Busqueda lineal en una lista ordenada\n",
            "[1, 2, 3, 4, 5, 12, 14, 18, 19, 21, 31, 34, 47, 48, 78]\n",
            "numero de comparaciones realizadas =15\n",
            "Resultado:  14\n",
            "busqueda binaria\n"
          ],
          "name": "stdout"
        },
        {
          "output_type": "error",
          "ename": "NameError",
          "evalue": "ignored",
          "traceback": [
            "\u001b[0;31m---------------------------------------------------------------------------\u001b[0m",
            "\u001b[0;31mNameError\u001b[0m                                 Traceback (most recent call last)",
            "\u001b[0;32m<ipython-input-8-91ada9b06735>\u001b[0m in \u001b[0;36m<module>\u001b[0;34m()\u001b[0m\n\u001b[1;32m     35\u001b[0m   \u001b[0mprint\u001b[0m\u001b[0;34m(\u001b[0m\u001b[0;34mf\"el elemento{dato} esta en la lista {posicion} de la lista\"\u001b[0m\u001b[0;34m)\u001b[0m\u001b[0;34m\u001b[0m\u001b[0;34m\u001b[0m\u001b[0m\n\u001b[1;32m     36\u001b[0m \u001b[0;34m\u001b[0m\u001b[0m\n\u001b[0;32m---> 37\u001b[0;31m \u001b[0mmain\u001b[0m\u001b[0;34m(\u001b[0m\u001b[0;34m)\u001b[0m\u001b[0;34m\u001b[0m\u001b[0;34m\u001b[0m\u001b[0m\n\u001b[0m",
            "\u001b[0;32m<ipython-input-8-91ada9b06735>\u001b[0m in \u001b[0;36mmain\u001b[0;34m()\u001b[0m\n\u001b[1;32m     32\u001b[0m \u001b[0;34m\u001b[0m\u001b[0m\n\u001b[1;32m     33\u001b[0m   \u001b[0mprint\u001b[0m\u001b[0;34m(\u001b[0m\u001b[0;34m\"busqueda binaria\"\u001b[0m\u001b[0;34m)\u001b[0m\u001b[0;34m\u001b[0m\u001b[0;34m\u001b[0m\u001b[0m\n\u001b[0;32m---> 34\u001b[0;31m   \u001b[0mposicion\u001b[0m \u001b[0;34m=\u001b[0m \u001b[0mbusqueda_binaria\u001b[0m\u001b[0;34m(\u001b[0m\u001b[0mdatos\u001b[0m \u001b[0;34m,\u001b[0m \u001b[0mdato\u001b[0m\u001b[0;34m)\u001b[0m\u001b[0;34m\u001b[0m\u001b[0;34m\u001b[0m\u001b[0m\n\u001b[0m\u001b[1;32m     35\u001b[0m   \u001b[0mprint\u001b[0m\u001b[0;34m(\u001b[0m\u001b[0;34mf\"el elemento{dato} esta en la lista {posicion} de la lista\"\u001b[0m\u001b[0;34m)\u001b[0m\u001b[0;34m\u001b[0m\u001b[0;34m\u001b[0m\u001b[0m\n\u001b[1;32m     36\u001b[0m \u001b[0;34m\u001b[0m\u001b[0m\n",
            "\u001b[0;31mNameError\u001b[0m: name 'busqueda_binaria' is not defined"
          ]
        }
      ]
    }
  ]
}
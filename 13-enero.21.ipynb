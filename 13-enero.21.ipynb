{
  "nbformat": 4,
  "nbformat_minor": 0,
  "metadata": {
    "colab": {
      "name": "Untitled8.ipynb",
      "provenance": [],
      "authorship_tag": "ABX9TyOLOPEbkPfir3I32JrX6SVT",
      "include_colab_link": true
    },
    "kernelspec": {
      "name": "python3",
      "display_name": "Python 3"
    }
  },
  "cells": [
    {
      "cell_type": "markdown",
      "metadata": {
        "id": "view-in-github",
        "colab_type": "text"
      },
      "source": [
        "<a href=\"https://colab.research.google.com/github/JocelynV00/daa_2021_1/blob/master/13-enero.21.ipynb\" target=\"_parent\"><img src=\"https://colab.research.google.com/assets/colab-badge.svg\" alt=\"Open In Colab\"/></a>"
      ]
    },
    {
      "cell_type": "code",
      "metadata": {
        "id": "2VNI0jZdXUTv"
      },
      "source": [
        "class NodoArbol:\r\n",
        "  def__init__( self, dato , hijo_izq=None , hijo_der=None):\r\n",
        "    self.dato = dato \r\n",
        "    self.hijo_izq = hijo_izq\r\n",
        "    self.hijo_der = hijo_der"
      ],
      "execution_count": null,
      "outputs": []
    },
    {
      "cell_type": "code",
      "metadata": {
        "id": "9xSJeiqOYZ9q"
      },
      "source": [
        "class BinarySearchTree:\r\n",
        "  def __init__( self ):\r\n",
        "    self.__root = None\r\n",
        "  \r\n",
        "  def  insert ( self , value ):\r\n",
        "    if self.__root == None:\r\n",
        "      self.__root = NodoArbol ( value , None , None)\r\n",
        "    else:\r\n",
        "      #preguntar si value es menor que root, de ser el caso insertar a la izq. pero puede ser el caso que el sub arbol izq\r\n",
        "      #ya tenga muchos elementos\r\n",
        "      self.__insert_nodo__ ( self.__root , value )\r\n",
        "  \r\n",
        "  def __insert_nodo__ (self , nodo , value ):\r\n",
        "    if nodo.data == value:\r\n",
        "      pass\r\n",
        "    elif value < nodo.dato: #true va a la izq\r\n",
        "      if nodo.left == None: #si hay espacio en la izq, ahi va\r\n",
        "          nodo.left = NodoArbol ( value , None, None)\r\n",
        "      else:\r\n",
        "        self.__insert_nodo__ (nodo.left , value )\r\n",
        "    else:\r\n",
        "      if nodo.right==None:\r\n",
        "        nodo.right = NodoArbol( value , None, None)\r\n",
        "      else:\r\n",
        "        self.__insert_nodo__ (nodo.right , value )\r\n",
        "\r\n"
      ],
      "execution_count": 5,
      "outputs": []
    }
  ]
}
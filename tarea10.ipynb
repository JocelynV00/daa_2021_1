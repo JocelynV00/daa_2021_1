{
  "nbformat": 4,
  "nbformat_minor": 0,
  "metadata": {
    "colab": {
      "name": "tarea10.ipynb",
      "provenance": [],
      "authorship_tag": "ABX9TyPIiYUQq8GVR7bgH9mlscTf",
      "include_colab_link": true
    },
    "kernelspec": {
      "name": "python3",
      "display_name": "Python 3"
    }
  },
  "cells": [
    {
      "cell_type": "markdown",
      "metadata": {
        "id": "view-in-github",
        "colab_type": "text"
      },
      "source": [
        "<a href=\"https://colab.research.google.com/github/JocelynV00/daa_2021_1/blob/master/tarea10.ipynb\" target=\"_parent\"><img src=\"https://colab.research.google.com/assets/colab-badge.svg\" alt=\"Open In Colab\"/></a>"
      ]
    },
    {
      "cell_type": "code",
      "metadata": {
        "id": "UB_MpB4WW-4Z"
      },
      "source": [
        "class NodoArbol:\r\n",
        "  def __init__(self, value, left=None,right=None):\r\n",
        "    self.data=value\r\n",
        "    self.left=left\r\n",
        "    self.right=right"
      ],
      "execution_count": 1,
      "outputs": []
    },
    {
      "cell_type": "code",
      "metadata": {
        "id": "WpjagHXMXGBm"
      },
      "source": [
        "class BinarySearchTree:\r\n",
        "  def encontrar(self, arboli, nivel, nivel_max, res):\r\n",
        "        if arboli !=None:\r\n",
        "            nivel+=1\r\n",
        "            self.encontrar(arboli.left, nivel, nivel_max, res)\r\n",
        "            if nivel > nivel_max[0]:\r\n",
        "                res[0] = arboli.data\r\n",
        "                nivel_max[0] = nivel\r\n",
        "            self.encontrar(arboli.right, nivel, nivel_max, res)\r\n",
        "  def nodoProfundo(self,arboli):\r\n",
        "       res = [-1]\r\n",
        "       nivel_max = [-1]\r\n",
        "       self.encontrar(arboli, 0, nivel_max, res)\r\n",
        "       return res[0]"
      ],
      "execution_count": 2,
      "outputs": []
    },
    {
      "cell_type": "code",
      "metadata": {
        "colab": {
          "base_uri": "https://localhost:8080/"
        },
        "id": "K3kd8uS-XUX6",
        "outputId": "b8289681-569f-4b2b-9a02-1f901cf7577e"
      },
      "source": [
        "arbol = NodoArbol(1)\r\n",
        "arbol.left=NodoArbol(2)\r\n",
        "arbol.left.right=NodoArbol(3)\r\n",
        "arbol.left.right.left=NodoArbol(4)\r\n",
        "arbol.right=NodoArbol(5)\r\n",
        "temp=BinarySearchTree()\r\n",
        "print('El nodo mas profundo es', temp.nodoProfundo(arbol))"
      ],
      "execution_count": 3,
      "outputs": [
        {
          "output_type": "stream",
          "text": [
            "El nodo mas profundo es 4\n"
          ],
          "name": "stdout"
        }
      ]
    }
  ]
}
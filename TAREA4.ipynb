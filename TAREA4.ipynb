{
  "nbformat": 4,
  "nbformat_minor": 0,
  "metadata": {
    "colab": {
      "name": "TAREA4.ipynb",
      "provenance": [],
      "authorship_tag": "ABX9TyMKRvFdnzizxKMucwbKPq+D",
      "include_colab_link": true
    },
    "kernelspec": {
      "name": "python3",
      "display_name": "Python 3"
    }
  },
  "cells": [
    {
      "cell_type": "markdown",
      "metadata": {
        "id": "view-in-github",
        "colab_type": "text"
      },
      "source": [
        "<a href=\"https://colab.research.google.com/github/JocelynV00/daa_2021_1/blob/master/TAREA4.ipynb\" target=\"_parent\"><img src=\"https://colab.research.google.com/assets/colab-badge.svg\" alt=\"Open In Colab\"/></a>"
      ]
    },
    {
      "cell_type": "code",
      "metadata": {
        "colab": {
          "base_uri": "https://localhost:8080/"
        },
        "id": "CrL7CK44Ou86",
        "outputId": "1f1fb830-fecf-48d9-91a5-0c083da2b9fd"
      },
      "source": [
        "def ejemplo4( n ):\r\n",
        "  count = 0\r\n",
        "  i = n\r\n",
        "  print(\"nivel 1\")\r\n",
        "  while i>=1:\r\n",
        "    count += 1\r\n",
        "    i = i // 2\r\n",
        "    print(\"nive 2\")\r\n",
        "  basura = 2 + 3\r\n",
        "  return count\r\n",
        "\r\n",
        "if __name__ == \"__main__\":\r\n",
        "  print(f\"Contador igual a: {ejemplo4(20)}\")"
      ],
      "execution_count": 1,
      "outputs": [
        {
          "output_type": "stream",
          "text": [
            "nivel 1\n",
            "nive 2\n",
            "nive 2\n",
            "nive 2\n",
            "nive 2\n",
            "nive 2\n",
            "Contador igual a: 5\n"
          ],
          "name": "stdout"
        }
      ]
    }
  ]
}
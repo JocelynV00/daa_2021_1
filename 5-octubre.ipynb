{
  "nbformat": 4,
  "nbformat_minor": 0,
  "metadata": {
    "colab": {
      "name": "Untitled14.ipynb",
      "provenance": [],
      "authorship_tag": "ABX9TyMmXhO8JG2dT3vNKYRii9H3",
      "include_colab_link": true
    },
    "kernelspec": {
      "name": "python3",
      "display_name": "Python 3"
    }
  },
  "cells": [
    {
      "cell_type": "markdown",
      "metadata": {
        "id": "view-in-github",
        "colab_type": "text"
      },
      "source": [
        "<a href=\"https://colab.research.google.com/github/JocelynV00/daa_2021_1/blob/master/5-octubre.ipynb\" target=\"_parent\"><img src=\"https://colab.research.google.com/assets/colab-badge.svg\" alt=\"Open In Colab\"/></a>"
      ]
    },
    {
      "cell_type": "markdown",
      "metadata": {
        "id": "rsomo47psI8-"
      },
      "source": [
        "# **Estructura de datos pila (stack)**\r\n",
        "* last in, first out\r\n",
        "* De tipo lineal\r\n",
        "* se pueden obtener e ingresar datos desde el topoe\r\n",
        "* push para agregar\r\n",
        "* pop para sacar\r\n",
        "\r\n",
        "# **Operaciones de las pilas**\r\n",
        "1. is_empty (regresa un true o false)\r\n",
        "2. get_top (regresa el elemento en el tope, sin sacarlo)\r\n",
        "3. pop (saca el elemento del tope y lo muestra)\r\n",
        "4. push (mete un elemento en el tope)\r\n",
        "5. get_length (regresa el numero de elementos de la pila)"
      ]
    },
    {
      "cell_type": "code",
      "metadata": {
        "id": "pHHZMR_3tGQX"
      },
      "source": [
        "# estructura de datos pila (stack)\r\n",
        "class Stack:\r\n",
        "  def __init__(self):\r\n",
        "    self.__datos=[]\r\n",
        "\r\n",
        "  def is_empty( self):\r\n",
        "    return len(self.__datos)== 0\r\n",
        "\r\n",
        "  def get_top(self):\r\n",
        "    return self.__datos[-1]\r\n",
        "\r\n",
        "  def pop(self):\r\n",
        "    return self.__datos.pop()\r\n",
        "\r\n",
        "  def push (self, valor):\r\n",
        "    self.__datos.append(valor)\r\n",
        "\r\n",
        "  def get_length(self):\r\n",
        "    return len(self.__datos)\r\n",
        "\r\n",
        "  def to_string(self):\r\n",
        "    print(\"---------------\")\r\n",
        "    for ele in self.__datos[-1::-1]:\r\n",
        "      print(f\"{ele}\")"
      ],
      "execution_count": 1,
      "outputs": []
    },
    {
      "cell_type": "code",
      "metadata": {
        "colab": {
          "base_uri": "https://localhost:8080/"
        },
        "id": "K8vWBLRutPyw",
        "outputId": "74769f9d-3e64-4f84-f1b2-05b7e828dc4a"
      },
      "source": [
        "pila1 = Stack()\r\n",
        "pila1.push(15)\r\n",
        "pila1.push(16)\r\n",
        "pila1.push(13)\r\n",
        "pila1.push(12)\r\n",
        "pila1.push(113)\r\n",
        "pila1.to_string()\r\n",
        "\r\n",
        "sacado = pila1.pop()\r\n",
        "print(sacado)\r\n",
        "pila1.to_string()\r\n",
        "\r\n",
        "pila1.push(444)\r\n",
        "pila1.push(233)\r\n",
        "pila1.to_string()\r\n",
        "\r\n",
        "print(f\"El elemento en el tope es :{ pila1.get_top() } \")\r\n",
        "pila1.to_string()\r\n",
        "print(f\"La pila tiene {pila1.get_length()} elementos\")\r\n",
        "print(f\"La pila esta vacia?:  {pila1.is_empty()} \")"
      ],
      "execution_count": 2,
      "outputs": [
        {
          "output_type": "stream",
          "text": [
            "---------------\n",
            "113\n",
            "12\n",
            "13\n",
            "16\n",
            "15\n",
            "113\n",
            "---------------\n",
            "12\n",
            "13\n",
            "16\n",
            "15\n",
            "---------------\n",
            "233\n",
            "444\n",
            "12\n",
            "13\n",
            "16\n",
            "15\n",
            "El elemento en el tope es :233 \n",
            "---------------\n",
            "233\n",
            "444\n",
            "12\n",
            "13\n",
            "16\n",
            "15\n",
            "La pila tiene 6 elementos\n",
            "La pila esta vacia?:  False \n"
          ],
          "name": "stdout"
        }
      ]
    },
    {
      "cell_type": "markdown",
      "metadata": {
        "id": "WV0tWe2stZEY"
      },
      "source": [
        "# Ejemplo de aplicacion de pilas\r\n",
        "x = 4 + 5 + 6 + 3\r\n",
        "\r\n",
        "x = 4 + (5 + 6) + 3\r\n",
        "\r\n",
        "x = 4 + 5 + 6) + 3\r\n",
        "\r\n",
        "x = (4 + (5 + 6) + 3)\r\n",
        "\r\n",
        "if(a==b) { System.out.println(b)\r\n",
        "\r\n",
        "if (a==b { System.out.println{b})\r\n",
        "\r\n",
        "# Reglas\r\n",
        "'(' ---> push(\"@\")\r\n",
        "')' ---> pop()\r\n",
        "Si al final del recorrido la pila esta vacia, entonces la cadena es correcta.\r\n",
        "\r\n",
        "Si en un pop desencadena en querer un elemento de la pila vacia significa que la cadena no está balanceada."
      ]
    }
  ]
}
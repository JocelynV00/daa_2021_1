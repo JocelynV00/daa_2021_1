{
  "nbformat": 4,
  "nbformat_minor": 0,
  "metadata": {
    "colab": {
      "name": "Untitled13.ipynb",
      "provenance": [],
      "authorship_tag": "ABX9TyPihdpb+7JX5s9C7j5k7gIA",
      "include_colab_link": true
    },
    "kernelspec": {
      "name": "python3",
      "display_name": "Python 3"
    }
  },
  "cells": [
    {
      "cell_type": "markdown",
      "metadata": {
        "id": "view-in-github",
        "colab_type": "text"
      },
      "source": [
        "<a href=\"https://colab.research.google.com/github/JocelynV00/daa_2021_1/blob/master/02%20-%20octubre.ipynb\" target=\"_parent\"><img src=\"https://colab.research.google.com/assets/colab-badge.svg\" alt=\"Open In Colab\"/></a>"
      ]
    },
    {
      "cell_type": "code",
      "metadata": {
        "id": "9FMo-ew3gcfZ"
      },
      "source": [
        ""
      ],
      "execution_count": null,
      "outputs": []
    },
    {
      "cell_type": "markdown",
      "metadata": {
        "id": "LXJGkqumgqjh"
      },
      "source": [
        "# **Meteorología en México** \r\n",
        "En Sistema meteorológico nacional lleva el registro de la lluvias desde el año 1985 y lo pone a disposición de la población por medio de la pagina datos.gob.mx.\r\n",
        "\r\n",
        "En la siguiente liga se encuentran 2 archivos separados por comas CSV correspondientes a los registros de lluvias mensuales y anuales de los años 2017 y 2018. En los columnas se encuentran 13, correspondientes al promedio mensual y el promedio anual. En los renglones se encuentran 33, correspondientes a cada uno de los 32 estados y a nivel nacional.\r\n",
        "\r\n",
        "https://drive.google.com/file/d/1lamkxgq2AsXRu81Y4JTNXLVld4og7nxt/view?usp=sharing"
      ]
    },
    {
      "cell_type": "markdown",
      "metadata": {
        "id": "2p9xOj1JonP2"
      },
      "source": [
        "#**Planteamiento del problema**\r\n",
        "Diseñar un algoritmo y programarlo para que:\r\n",
        "\r\n",
        "Solicite por teclado el año, el estado y el mes, en base a esa información:\r\n",
        "muestre en pantalla el promedio de ese mes en ese estado en el año seleccionado.\r\n",
        "muestre en pantalla el promedio anual del estado seleccionado.\r\n",
        "muestre la suma de los 12 meses de ese estado en el año seleccionado.\r\n",
        "Busque el mes que mas llovió en todos los estados durante esos dos años. Imprimir año, estado y mes.\r\n",
        "Busque el mes que menos llovió en los dos. Imprimir año, estado y mes."
      ]
    },
    {
      "cell_type": "code",
      "metadata": {
        "id": "ngKYka7Goupa"
      },
      "source": [
        "año = input (\"Escoge un año, 2017 ó 2018: \")\r\n",
        "mes = input(\"Escribe un mes en formato ENE, FEB, MAR, ETC.: \")\r\n",
        "estado = input(\"Escribe un estado en mayusculas: \")\r\n",
        "\r\n",
        "f = open (str(año)+'Precip.csv','r')\r\n",
        "mensaje = f.readlines()\r\n",
        "print(mensaje)\r\n",
        "f.close()"
      ],
      "execution_count": null,
      "outputs": []
    }
  ]
}